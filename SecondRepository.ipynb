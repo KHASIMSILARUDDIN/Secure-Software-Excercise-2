SILARUDDIN SHAIK
A1782580
1. CVE-ID -CVE-2015-1830
2. Project Link:https://github.com/apache/activemq
3. Provided Fixing Commit - 9fd5cb7dfe0fcc431f99d5e14206e0090e72f36b
{
 "cells": [
  {
   "cell_type": "code",
   "execution_count": null,
   "metadata": {},
   "outputs": [],
   "source": []
  },
  {
   "cell_type": "code",
   "execution_count": 2,
   "metadata": {},
   "outputs": [],
   "source": [
    "import numpy as np\n",
    "import pandas as pd\n",
    "import os\n",
    "\n",
    "# Specify git executable file for GitPython in Jupyter Notebook (In IDE, it can still work without this line.)\n",
    "os.enviro\n",
    "n[\"GIT_PYTHON_REFRESH\"] = \"quiet\"\n",
    "\n",
    "import git\n",
    "from git import RemoteProgress\n",
    "\n",
    "from git import Repo\n",
    "import matplotlib.pyplot as plt\n",
    "import seaborn as sns\n",
    "%matplotlib inline"
   ]
  },
  {
   "cell_type": "code",
   "execution_count": 3,
   "metadata": {},
   "outputs": [],
   "source": [
    "repo = Repo(\"activemq/\")\n",
    "fixingCommit=\"9fd5cb7dfe0fcc431f99d5e14206e0090e72f36b\""
   ]
  },
  {
   "cell_type": "code",
   "execution_count": 4,
   "metadata": {},
   "outputs": [
    {
     "name": "stdout",
     "output_type": "stream",
     "text": [
      "('    https://issues.apache.org/jira/browse/AMQ-5754 - disable file server by '\n",
      " 'default')\n"
     ]
    }
   ],
   "source": [
    "import pprint as pprint\n",
    "show_data = repo.git.show(\"-s\", fixingCommit).splitlines()\n",
    "pprint.pprint(show_data[4])"
   ]
  },
  {
   "cell_type": "code",
   "execution_count": 5,
   "metadata": {},
   "outputs": [
    {
     "name": "stdout",
     "output_type": "stream",
     "text": [
      "' 3 files changed, 6 insertions(+), 3 deletions(-)'\n"
     ]
    }
   ],
   "source": [
    "import pprint as pprint\n",
    "totalFilesAffected = repo.git.show(\"--stat\", \"9fd5cb7dfe0fcc431f99d5e14206e0090e72f36b\").splitlines()\n",
    "\n",
    "pprint.pprint(totalFilesAffected[9])"
   ]
  },
  {
   "cell_type": "code",
   "execution_count": 6,
   "metadata": {},
   "outputs": [
    {
     "name": "stdout",
     "output_type": "stream",
     "text": [
      "'Directories affected:  assembly/src/release/conf/jetty.xml                '\n"
     ]
    }
   ],
   "source": [
    "totalDirectoriesAffected = repo.git.show(\"--stat\", \"9fd5cb7dfe0fcc431f99d5e14206e0090e72f36b\").splitlines()\n",
    "\n",
    "pprint.pprint(\"Directories affected: \"+totalDirectoriesAffected[8][0:52])"
   ]
  },
  {
   "cell_type": "code",
   "execution_count": 7,
   "metadata": {},
   "outputs": [
    {
     "name": "stdout",
     "output_type": "stream",
     "text": [
      "'Total lines DELETED including comments and blank lines: , 3 deletions'\n"
     ]
    }
   ],
   "source": [
    "totalLinesDeletedInc = repo.git.show(\"--stat\", \"9fd5cb7dfe0fcc431f99d5e14206e0090e72f36b\").splitlines()\n",
    "\n",
    "pprint.pprint(\"Total lines DELETED including comments and blank lines: \"+totalLinesDeletedInc[9][33:46])"
   ]
  },
  {
   "cell_type": "code",
   "execution_count": 8,
   "metadata": {},
   "outputs": [
    {
     "name": "stdout",
     "output_type": "stream",
     "text": [
      "'Total lines ADDED including comments and blank lines:  6 insertions('\n"
     ]
    }
   ],
   "source": [
    "totalLinesAddedInc = repo.git.show(\"--stat\", \"9fd5cb7dfe0fcc431f99d5e14206e0090e72f36b\").splitlines()\n",
    "\n",
    "pprint.pprint(\"Total lines ADDED including comments and blank lines: \"+totalLinesAddedInc[9][17:31])"
   ]
  },
  {
   "cell_type": "code",
   "execution_count": 10,
   "metadata": {},
   "outputs": [
    {
     "name": "stdout",
     "output_type": "stream",
     "text": [
      "'Total lines DELETED excluding comments and blank lines: , 3 deletions'\n"
     ]
    }
   ],
   "source": [
    "totalLinesDeletedExc = repo.git.show(\"--stat\", \"--ignore-blank-lines\", \"9fd5cb7dfe0fcc431f99d5e14206e0090e72f36b\").splitlines()\n",
    "\n",
    "pprint.pprint(\"Total lines DELETED excluding comments and blank lines: \"+totalLinesDeletedExc[9][33:46])"
   ]
  },
  {
   "cell_type": "code",
   "execution_count": 11,
   "metadata": {},
   "outputs": [
    {
     "name": "stdout",
     "output_type": "stream",
     "text": [
      "'Total lines ADDED excluding comments and blank lines:  6 insertions('\n"
     ]
    }
   ],
   "source": [
    "totalLinesAddedExc = repo.git.show(\"--stat\", \"--ignore-blank-lines\", \"9fd5cb7dfe0fcc431f99d5e14206e0090e72f36b\").splitlines()\n",
    "\n",
    "pprint.pprint(\"Total lines ADDED excluding comments and blank lines: \"+totalLinesAddedExc[9][17:31])"
   ]
  },
  {
   "cell_type": "code",
   "execution_count": 13,
   "metadata": {},
   "outputs": [
    {
     "name": "stdout",
     "output_type": "stream",
     "text": [
      "0 Days\n"
     ]
    }
   ],
   "source": [
    "from datetime import datetime\n",
    "from datetime import date\n",
    "DateOfFixingCommit = repo.git.log(\"-1\" ,\"--format=\\\"%ai\\\"\", \"9fd5cb7dfe0fcc431f99d5e14206e0090e72f36b\",\"--\",\"assembly/src/release/conf/jetty.xml\").splitlines()\n",
    "DateOfFixingCommit=DateOfFixingCommit[0][1:11]\n",
    "DateOfPrevCommit = repo.git.log(\"-1\" ,\"--format=\\\"%ai\\\"\",\"-p\",\"9fd5cb7dfe0fcc431f99d5e14206e0090e72f36b\",\"--\",\"assembly/src/release/conf/jetty.xml\").splitlines()\n",
    "DateOfPrevCommit=DateOfPrevCommit[0][1:11]\n",
    "DateOfPrevCommit= datetime.strptime(DateOfPrevCommit,\"%Y-%m-%d\")\n",
    "DateOfFixingCommit= datetime.strptime(DateOfFixingCommit,\"%Y-%m-%d\")\n",
    "Days=(DateOfFixingCommit-DateOfPrevCommit).days\n",
    "print(Days,\"Days\")"
   ]
  },
  {
   "cell_type": "code",
   "execution_count": 15,
   "metadata": {},
   "outputs": [
    {
     "name": "stdout",
     "output_type": "stream",
     "text": [
      "42\n"
     ]
    }
   ],
   "source": [
    "Commits=repo.git.log(\"--follow\",\"9fd5cb7dfe0fcc431f99d5e14206e0090e72f36b\",\"--\",\"assembly/src/release/conf/jetty.xml\")\n",
    "print(Commits.count('commit'))"
   ]
  },
  {
   "cell_type": "code",
   "execution_count": 17,
   "metadata": {},
   "outputs": [
    {
     "name": "stdout",
     "output_type": "stream",
     "text": [
      "('\"Dejan Bosanac\"\\n'\n",
      " '\"Jason Sherman\"\\n'\n",
      " '\"Dejan Bosanac\"\\n'\n",
      " '\"Daniel Kulp\"\\n'\n",
      " '\"Dejan Bosanac\"\\n'\n",
      " '\"Claus Ibsen\"\\n'\n",
      " '\"Claus Ibsen\"\\n'\n",
      " '\"Claus Ibsen\"\\n'\n",
      " '\"Bosanac Dejan\"\\n'\n",
      " '\"Bosanac Dejan\"\\n'\n",
      " '\"Hiram R. Chirino\"\\n'\n",
      " '\"Bosanac Dejan\"\\n'\n",
      " '\"Claus Ibsen\"\\n'\n",
      " '\"Bosanac Dejan\"\\n'\n",
      " '\"Timothy A. Bish\"\\n'\n",
      " '\"Timothy A. Bish\"\\n'\n",
      " '\"Gary Tully\"\\n'\n",
      " '\"Bosanac Dejan\"\\n'\n",
      " '\"Bosanac Dejan\"\\n'\n",
      " '\"Bosanac Dejan\"\\n'\n",
      " '\"Bosanac Dejan\"\\n'\n",
      " '\"Bosanac Dejan\"\\n'\n",
      " '\"Bosanac Dejan\"\\n'\n",
      " '\"Bosanac Dejan\"\\n'\n",
      " '\"Bosanac Dejan\"\\n'\n",
      " '\"Bosanac Dejan\"\\n'\n",
      " '\"Bosanac Dejan\"\\n'\n",
      " '\"Bosanac Dejan\"\\n'\n",
      " '\"Gary Tully\"')\n"
     ]
    }
   ],
   "source": [
    "Developers=repo.git.log(\"--format=\\\"%aN\\\"\",\"9fd5cb7dfe0fcc431f99d5e14206e0090e72f36b\",\"--\",\"assembly/src/release/conf/jetty.xml\")\n",
    "\n",
    "pprint.pprint(Developers)"
   ]
  },
  {
   "cell_type": "code",
   "execution_count": 18,
   "metadata": {},
   "outputs": [
    {
     "name": "stdout",
     "output_type": "stream",
     "text": [
      "('    15\\tBosanac Dejan\\n'\n",
      " '     4\\tClaus Ibsen\\n'\n",
      " '     3\\tDejan Bosanac\\n'\n",
      " '     2\\tTimothy A. Bish\\n'\n",
      " '     2\\tGary Tully\\n'\n",
      " '     1\\tHiram R. Chirino\\n'\n",
      " '     1\\tJason Sherman\\n'\n",
      " '     1\\tDaniel Kulp')\n"
     ]
    }
   ],
   "source": [
    "TopDevelopers=repo.git.shortlog(\"-sn\",\"9fd5cb7dfe0fcc431f99d5e14206e0090e72f36b\",\"--\",\"assembly/src/release/conf/jetty.xml\")\n",
    "pprint.pprint(TopDevelopers)"
   ]
  },
  {
   "cell_type": "code",
   "execution_count": null,
   "metadata": {},
   "outputs": [],
   "source": []
  }
 ],
 "metadata": {
  "kernelspec": {
   "display_name": "Python 3",
   "language": "python",
   "name": "python3"
  },
  "language_info": {
   "codemirror_mode": {
    "name": "ipython",
    "version": 3
   },
   "file_extension": ".py",
   "mimetype": "text/x-python",
   "name": "python",
   "nbconvert_exporter": "python",
   "pygments_lexer": "ipython3",
   "version": "3.7.4"
  }
 },
 "nbformat": 4,
 "nbformat_minor": 2
}
