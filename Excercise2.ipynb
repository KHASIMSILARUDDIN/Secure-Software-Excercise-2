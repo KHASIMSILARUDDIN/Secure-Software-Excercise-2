{
 "cells": [
  {
   "cell_type": "markdown",
   "metadata": {},
   "source": [
    "#\n",
    "SILARUDDIN SHAIK\n",
    "ID: A1782580\n",
    "1. CVE-ID - CVE-2015-1830\n",
    "2. Project Link1: https://github.com/apache/activemq\n",
    "3. Provided Fixing Commit - 9fd5cb7dfe0fcc431f99d5e14206e0090e72f36b"
   ]
  },
  {
   "cell_type": "code",
   "execution_count": 60,
   "metadata": {},
   "outputs": [],
   "source": [
    "import numpy as np\n",
    "import pandas as pd\n",
    "import os\n",
    "\n",
    "# Specify git executable file for GitPython in Jupyter Notebook (In IDE, it can still work without this line.)\n",
    "os.environ[\"GIT_PYTHON_REFRESH\"] = \"quiet\"\n",
    "\n",
    "import git\n",
    "from git import RemoteProgress\n",
    "\n",
    "from git import Repo\n",
    "import matplotlib.pyplot as plt\n",
    "import seaborn as sns\n",
    "%matplotlib inline"
   ]
  },
  {
   "cell_type": "code",
   "execution_count": 61,
   "metadata": {},
   "outputs": [],
   "source": [
    "repo = Repo(\"activemq/\")\n",
    "fixingCommit=\"9fd5cb7dfe0fcc431f99d5e14206e0090e72f36b\""
   ]
  },
  {
   "cell_type": "markdown",
   "metadata": {},
   "source": [
    " #\n",
    "    Question'a': What was the message and title of the fixing commit? Was there any mention of fixing a bug or vulnerability?"
   ]
  },
  {
   "cell_type": "code",
   "execution_count": 62,
   "metadata": {
    "scrolled": true
   },
   "outputs": [
    {
     "name": "stdout",
     "output_type": "stream",
     "text": [
      "('    https://issues.apache.org/jira/browse/AMQ-5754 - disable file server by '\n",
      " 'default')\n"
     ]
    }
   ],
   "source": [
    "import pprint as pprint\n",
    "message_data = repo.git.show(\"-s\", fixingCommit).splitlines()\n",
    "pprint.pprint(message_data[4])"
   ]
  },
  {
   "cell_type": "markdown",
   "metadata": {},
   "source": [
    "#Question 'b' How many total files were affected in the fixing commit?"
   ]
  },
  {
   "cell_type": "code",
   "execution_count": 63,
   "metadata": {},
   "outputs": [
    {
     "name": "stdout",
     "output_type": "stream",
     "text": [
      "' 3 files changed, 6 insertions(+), 3 deletions(-)'\n"
     ]
    }
   ],
   "source": [
    "import pprint as pprint\n",
    "totalFilesAffected = repo.git.show(\"--stat\", \"9fd5cb7dfe0fcc431f99d5e14206e0090e72f36b\").splitlines()\n",
    "\n",
    "pprint.pprint(totalFilesAffected[9])"
   ]
  },
  {
   "cell_type": "markdown",
   "metadata": {},
   "source": [
    "#Question 'c' How many total directories were affected in the fixing commit?"
   ]
  },
  {
   "cell_type": "code",
   "execution_count": 6,
   "metadata": {},
   "outputs": [
    {
     "name": "stdout",
     "output_type": "stream",
     "text": [
      "'Directories affected:  assembly/src/release/conf/jetty.xml                '\n"
     ]
    }
   ],
   "source": [
    "totalDirectoriesAffected = repo.git.show(\"--stat\", \"9fd5cb7dfe0fcc431f99d5e14206e0090e72f36b\").splitlines()\n",
    "\n",
    "pprint.pprint(\"Directories affected: \"+totalDirectoriesAffected[8][0:52])"
   ]
  },
  {
   "cell_type": "markdown",
   "metadata": {},
   "source": [
    "#Question'd'How many total lines of code (including comments and blank lines) were deleted?"
   ]
  },
  {
   "cell_type": "code",
   "execution_count": 7,
   "metadata": {},
   "outputs": [
    {
     "name": "stdout",
     "output_type": "stream",
     "text": [
      "'Total lines DELETED including comments and blank lines: , 3 deletions'\n"
     ]
    }
   ],
   "source": [
    "totalLinesDeletedInc = repo.git.show(\"--stat\", \"9fd5cb7dfe0fcc431f99d5e14206e0090e72f36b\").splitlines()\n",
    "\n",
    "pprint.pprint(\"Total lines DELETED including comments and blank lines: \"+totalLinesDeletedInc[9][33:46])"
   ]
  },
  {
   "cell_type": "markdown",
   "metadata": {},
   "source": [
    "#Question'e'How many total lines of code (including comments and blank lines) were added?"
   ]
  },
  {
   "cell_type": "code",
   "execution_count": 8,
   "metadata": {},
   "outputs": [
    {
     "name": "stdout",
     "output_type": "stream",
     "text": [
      "'Total lines ADDED including comments and blank lines:  6 insertions('\n"
     ]
    }
   ],
   "source": [
    "totalLinesAddedInc = repo.git.show(\"--stat\", \"9fd5cb7dfe0fcc431f99d5e14206e0090e72f36b\").splitlines()\n",
    "\n",
    "pprint.pprint(\"Total lines ADDED including comments and blank lines: \"+totalLinesAddedInc[9][17:31])"
   ]
  },
  {
   "cell_type": "markdown",
   "metadata": {},
   "source": [
    "#Question'f'How many total lines of code (excluding comments and blank lines) were deleted?"
   ]
  },
  {
   "cell_type": "code",
   "execution_count": 10,
   "metadata": {},
   "outputs": [
    {
     "name": "stdout",
     "output_type": "stream",
     "text": [
      "'Total lines DELETED excluding comments and blank lines: , 3 deletions'\n"
     ]
    }
   ],
   "source": [
    "totalLinesDeletedExc = repo.git.show(\"--stat\", \"--ignore-blank-lines\", \"9fd5cb7dfe0fcc431f99d5e14206e0090e72f36b\").splitlines()\n",
    "\n",
    "pprint.pprint(\"Total lines DELETED excluding comments and blank lines: \"+totalLinesDeletedExc[9][33:46])"
   ]
  },
  {
   "cell_type": "markdown",
   "metadata": {},
   "source": [
    "#Question ‘g’ How many total lines of code (excluding comments and blank lines) were added?"
   ]
  },
  {
   "cell_type": "code",
   "execution_count": 11,
   "metadata": {},
   "outputs": [
    {
     "name": "stdout",
     "output_type": "stream",
     "text": [
      "'Total lines ADDED excluding comments and blank lines:  6 insertions('\n"
     ]
    }
   ],
   "source": [
    "totalLinesAddedExc = repo.git.show(\"--stat\", \"--ignore-blank-lines\", \"9fd5cb7dfe0fcc431f99d5e14206e0090e72f36b\").splitlines()\n",
    "\n",
    "pprint.pprint(\"Total lines ADDED excluding comments and blank lines: \"+totalLinesAddedExc[9][17:31])"
   ]
  },
  {
   "cell_type": "markdown",
   "metadata": {},
   "source": [
    "#Question'h'How many days were between the current fixing commit and the previous commit of each affected file?"
   ]
  },
  {
   "cell_type": "code",
   "execution_count": 8,
   "metadata": {},
   "outputs": [
    {
     "name": "stdout",
     "output_type": "stream",
     "text": [
      "0 days\n"
     ]
    }
   ],
   "source": [
    "from datetime import datetime\n",
    "from datetime import date\n",
    "DateOfFixingCommit = repo.git.log(\"-1\" ,\"--format=\\\"%ai\\\"\", \"9fd5cb7dfe0fcc431f99d5e14206e0090e72f36b\",\"--\",\"assembly/src/release/conf/jetty.xml\").splitlines()\n",
    "DateOfFixingCommit=DateOfFixingCommit[0][1:11]\n",
    "DateOfPrevCommit = repo.git.log(\"-1\" ,\"--format=\\\"%ai\\\"\",\"-p\",\"9fd5cb7dfe0fcc431f99d5e14206e0090e72f36b\",\"--\",\"assembly/src/release/conf/jetty.xml\").splitlines()\n",
    "DateOfPrevCommit=DateOfPrevCommit[0][1:11]\n",
    "DateOfPrevCommit= datetime.strptime(DateOfPrevCommit,\"%Y-%m-%d\")\n",
    "DateOfFixingCommit= datetime.strptime(DateOfFixingCommit,\"%Y-%m-%d\")\n",
    "between_days =(DateOfFixingCommit-DateOfPrevCommit).days\n",
    "print(between_days,\"days\")"
   ]
  },
  {
   "cell_type": "markdown",
   "metadata": {},
   "source": [
    "#Question I How many time has each affected file of the current fixing commit been modified in the past since their creation (including rename of the file)?"
   ]
  },
  {
   "cell_type": "code",
   "execution_count": 15,
   "metadata": {},
   "outputs": [
    {
     "name": "stdout",
     "output_type": "stream",
     "text": [
      "42\n"
     ]
    }
   ],
   "source": [
    "Commits=repo.git.log(\"--follow\",\"9fd5cb7dfe0fcc431f99d5e14206e0090e72f36b\",\"--\",\"assembly/src/release/conf/jetty.xml\")\n",
    "print(Commits.count('commit'))"
   ]
  },
  {
   "cell_type": "markdown",
   "metadata": {},
   "source": [
    "Question‘J’ j.\tWhich developers have modified each affected file since its creation? "
   ]
  },
  {
   "cell_type": "code",
   "execution_count": 17,
   "metadata": {},
   "outputs": [
    {
     "name": "stdout",
     "output_type": "stream",
     "text": [
      "('\"Dejan Bosanac\"\\n'\n",
      " '\"Jason Sherman\"\\n'\n",
      " '\"Dejan Bosanac\"\\n'\n",
      " '\"Daniel Kulp\"\\n'\n",
      " '\"Dejan Bosanac\"\\n'\n",
      " '\"Claus Ibsen\"\\n'\n",
      " '\"Claus Ibsen\"\\n'\n",
      " '\"Claus Ibsen\"\\n'\n",
      " '\"Bosanac Dejan\"\\n'\n",
      " '\"Bosanac Dejan\"\\n'\n",
      " '\"Hiram R. Chirino\"\\n'\n",
      " '\"Bosanac Dejan\"\\n'\n",
      " '\"Claus Ibsen\"\\n'\n",
      " '\"Bosanac Dejan\"\\n'\n",
      " '\"Timothy A. Bish\"\\n'\n",
      " '\"Timothy A. Bish\"\\n'\n",
      " '\"Gary Tully\"\\n'\n",
      " '\"Bosanac Dejan\"\\n'\n",
      " '\"Bosanac Dejan\"\\n'\n",
      " '\"Bosanac Dejan\"\\n'\n",
      " '\"Bosanac Dejan\"\\n'\n",
      " '\"Bosanac Dejan\"\\n'\n",
      " '\"Bosanac Dejan\"\\n'\n",
      " '\"Bosanac Dejan\"\\n'\n",
      " '\"Bosanac Dejan\"\\n'\n",
      " '\"Bosanac Dejan\"\\n'\n",
      " '\"Bosanac Dejan\"\\n'\n",
      " '\"Bosanac Dejan\"\\n'\n",
      " '\"Gary Tully\"')\n"
     ]
    }
   ],
   "source": [
    "Developers=repo.git.log(\"--format=\\\"%aN\\\"\",\"9fd5cb7dfe0fcc431f99d5e14206e0090e72f36b\",\"--\",\"assembly/src/release/conf/jetty.xml\")\n",
    "\n",
    "pprint.pprint(Developers)"
   ]
  },
  {
   "cell_type": "markdown",
   "metadata": {},
   "source": [
    "Question'k' Which developers have modified each affected file since its creation?\n",
    "For each developer identified, how many commits have each of them submitted?"
   ]
  },
  {
   "cell_type": "code",
   "execution_count": 64,
   "metadata": {},
   "outputs": [
    {
     "name": "stdout",
     "output_type": "stream",
     "text": [
      "('    15\\tBosanac Dejan\\n'\n",
      " '     4\\tClaus Ibsen\\n'\n",
      " '     3\\tDejan Bosanac\\n'\n",
      " '     2\\tTimothy A. Bish\\n'\n",
      " '     2\\tGary Tully\\n'\n",
      " '     1\\tHiram R. Chirino\\n'\n",
      " '     1\\tJason Sherman\\n'\n",
      " '     1\\tDaniel Kulp')\n"
     ]
    }
   ],
   "source": [
    "best_Developers=repo.git.shortlog(\"-sn\",\"9fd5cb7dfe0fcc431f99d5e14206e0090e72f36b\",\"--\",\"assembly/src/release/conf/jetty.xml\")\n",
    "pprint.pprint(best_Developers)"
   ]
  },
  {
   "cell_type": "markdown",
   "metadata": {},
   "source": [
    "#\n",
    "SILARUDDIN SHAIK\n",
    "ID: A1782580\n",
    "1. CVE-ID - CVE-2017-14949\n",
    "2. Project Link2: https://github.com/restlet/restlet-framework-java\n",
    "3. Provided Fixing Commit - 97a8d1d62612683817c785e99c4166bcde8cf1c"
   ]
  },
  {
   "cell_type": "code",
   "execution_count": 66,
   "metadata": {},
   "outputs": [],
   "source": [
    "import numpy as np\n",
    "import pandas as pd\n",
    "import os\n",
    "\n",
    "# Specify git executable file for GitPython in Jupyter Notebook (In IDE, it can still work without this line.)\n",
    "os.environ[\"GIT_PYTHON_REFRESH\"] = \"quiet\"\n",
    "\n",
    "import git\n",
    "from git import RemoteProgress\n",
    "\n",
    "from git import Repo\n",
    "import matplotlib.pyplot as plt\n",
    "import seaborn as sns\n",
    "%matplotlib inline"
   ]
  },
  {
   "cell_type": "code",
   "execution_count": 67,
   "metadata": {},
   "outputs": [],
   "source": [
    "repo = Repo(\"restlet-framework-java/\")\n",
    "fixingCommit=\"97a8d1d62612683817c785e99c4166bcde8cf1c\""
   ]
  },
  {
   "cell_type": "markdown",
   "metadata": {},
   "source": [
    "#Question'a': What was the message and title of the fixing commit? Was there any mention of fixing a bug or vulnerability?"
   ]
  },
  {
   "cell_type": "code",
   "execution_count": 68,
   "metadata": {},
   "outputs": [
    {
     "name": "stdout",
     "output_type": "stream",
     "text": [
      "'    XEE injection security in XML extension. Reported by Man Yue Mo.'\n"
     ]
    }
   ],
   "source": [
    "import pprint as pprint\n",
    "message_data = repo.git.show(\"-s\", fixingCommit).splitlines()\n",
    "pprint.pprint(message_data[4])"
   ]
  },
  {
   "cell_type": "markdown",
   "metadata": {},
   "source": [
    "#Question 'b' How many total files were affected in the fixing commit?"
   ]
  },
  {
   "cell_type": "code",
   "execution_count": 69,
   "metadata": {},
   "outputs": [
    {
     "name": "stdout",
     "output_type": "stream",
     "text": [
      "' 2 files changed, 7 insertions(+), 1 deletion(-)'\n"
     ]
    }
   ],
   "source": [
    "import pprint as pprint\n",
    "\n",
    "totalFilesAffected = repo.git.show(\"--stat\", \"97a8d1d62612683817c785e99c4166bcde8cf1c\").splitlines()\n",
    "pprint.pprint(totalFilesAffected[8])"
   ]
  },
  {
   "cell_type": "markdown",
   "metadata": {},
   "source": [
    "#Question 'c' How many total directories were affected in the fixing commit?"
   ]
  },
  {
   "cell_type": "code",
   "execution_count": 70,
   "metadata": {},
   "outputs": [
    {
     "name": "stdout",
     "output_type": "stream",
     "text": [
      "'Directories affected: ../src/main/java/org/restlet/ex'\n"
     ]
    }
   ],
   "source": [
    "import pprint as pprint\n",
    "NumberofDirecAffected = repo.git.show(\"--stat\", \"97a8d1d62612683817c785e99c4166bcde8cf1c\").splitlines()\n",
    "\n",
    "pprint.pprint(\"Directories affected: \"+NumberofDirecAffected[7][2:33])\n"
   ]
  },
  {
   "cell_type": "markdown",
   "metadata": {},
   "source": [
    "#Question'd'How many total lines of code (including comments and blank lines) were deleted?\n",
    "\n"
   ]
  },
  {
   "cell_type": "code",
   "execution_count": 71,
   "metadata": {},
   "outputs": [
    {
     "name": "stdout",
     "output_type": "stream",
     "text": [
      "'Total lines DELETED including comments and blank lines: , 1 deletion(-)'\n"
     ]
    }
   ],
   "source": [
    "numberoflinesdeleted = repo.git.show(\"--stat\", \"97a8d1d62612683817c785e99c4166bcde8cf1c\").splitlines()\n",
    "\n",
    "pprint.pprint(\"Total lines DELETED including comments and blank lines: \"+numberoflinesdeleted[8][33:51])\n"
   ]
  },
  {
   "cell_type": "markdown",
   "metadata": {},
   "source": [
    "#Question'e'How many total lines of code (including comments and blank lines) were added?"
   ]
  },
  {
   "cell_type": "code",
   "execution_count": 72,
   "metadata": {},
   "outputs": [
    {
     "name": "stdout",
     "output_type": "stream",
     "text": [
      "'Total lines ADDED including comments and blank lines:  7 insertions('\n"
     ]
    }
   ],
   "source": [
    "numberoflinesadded = repo.git.show(\"--stat\", \"97a8d1d62612683817c785e99c4166bcde8cf1c\").splitlines()\n",
    "pprint.pprint(\"Total lines ADDED including comments and blank lines: \"+numberoflinesadded[8][17:31])\n"
   ]
  },
  {
   "cell_type": "markdown",
   "metadata": {},
   "source": [
    "#Question'f'How many total lines of code (excluding comments and blank lines) were deleted?"
   ]
  },
  {
   "cell_type": "code",
   "execution_count": 73,
   "metadata": {},
   "outputs": [
    {
     "name": "stdout",
     "output_type": "stream",
     "text": [
      "'Total lines DELETED including comments and blank lines: , 1 deletion(-)'\n"
     ]
    }
   ],
   "source": [
    "numberoflinesdeleted = repo.git.show(\"--stat\", \"97a8d1d62612683817c785e99c4166bcde8cf1c\").splitlines()\n",
    "\n",
    "pprint.pprint(\"Total lines DELETED including comments and blank lines: \"+numberoflinesdeleted[8][33:51])\n"
   ]
  },
  {
   "cell_type": "markdown",
   "metadata": {},
   "source": [
    "#Question ‘g’ How many total lines of code (excluding comments and blank lines) were added?"
   ]
  },
  {
   "cell_type": "code",
   "execution_count": 23,
   "metadata": {},
   "outputs": [
    {
     "name": "stdout",
     "output_type": "stream",
     "text": [
      "'Total lines ADDED excluding comments and blank lines:  7 insertions('\n"
     ]
    }
   ],
   "source": [
    "totalLinesAddedExc = repo.git.show(\"--stat\", \"--ignore-blank-lines\", \"97a8d1d62612683817c785e99c4166bcde8cf1c\").splitlines()\n",
    "\n",
    "pprint.pprint(\"Total lines ADDED excluding comments and blank lines: \"+totalLinesAddedExc[8][17:31])"
   ]
  },
  {
   "cell_type": "markdown",
   "metadata": {},
   "source": [
    "#Question'h'How many days were between the current fixing commit and the previous commit of each affected file?"
   ]
  },
  {
   "cell_type": "code",
   "execution_count": 24,
   "metadata": {},
   "outputs": [
    {
     "name": "stdout",
     "output_type": "stream",
     "text": [
      "17 Days\n"
     ]
    }
   ],
   "source": [
    "from datetime import datetime\n",
    "from datetime import date\n",
    "DateOfFixingCommit = repo.git.log(\"-1\" ,\"--format=\\\"%ai\\\"\", \"97a8d1d62612683817c785e99c4166bcde8cf1c\",\"--\",\"modules/org.restlet.ext.xml/src/main/java/org/restlet/ext/xml/XmlRepresentation.java\").splitlines()\n",
    "DateOfFixingCommit=DateOfFixingCommit[0][1:11]\n",
    "DateOfPrevCommit = repo.git.log(\"-1\" ,\"--format=\\\"%ai\\\"\",\"-p\",\"97a8d1d62612683817c785e99c4166bcde8cf1c^\",\"--\",\"modules/org.restlet.ext.xml/src/main/java/org/restlet/ext/xml/XmlRepresentation.java\").splitlines()\n",
    "DateOfPrevCommit=DateOfPrevCommit[0][1:11]\n",
    "DateOfPrevCommit= datetime.strptime(DateOfPrevCommit,\"%Y-%m-%d\")\n",
    "DateOfFixingCommit= datetime.strptime(DateOfFixingCommit,\"%Y-%m-%d\")\n",
    "Days_between=(DateOfFixingCommit-DateOfPrevCommit).days\n",
    "print(Days_between, \"Days\")"
   ]
  },
  {
   "cell_type": "markdown",
   "metadata": {},
   "source": [
    "#Question I How many time has each affected file of the current fixing commit been modified in the past since their creation (including rename of the file)?\n",
    "\n"
   ]
  },
  {
   "cell_type": "code",
   "execution_count": 25,
   "metadata": {},
   "outputs": [
    {
     "name": "stdout",
     "output_type": "stream",
     "text": [
      "70\n"
     ]
    }
   ],
   "source": [
    "Commit_count=repo.git.log(\"--follow\",\"97a8d1d62612683817c785e99c4166bcde8cf1c\",\"--\",\"modules/org.restlet.ext.xml/src/main/java/org/restlet/ext/xml/XmlRepresentation.java\")\n",
    "print(Commit_count.count('commit'))"
   ]
  },
  {
   "cell_type": "markdown",
   "metadata": {},
   "source": [
    "Question‘J’ j. Which developers have modified each affected file since its creation?"
   ]
  },
  {
   "cell_type": "code",
   "execution_count": 29,
   "metadata": {},
   "outputs": [
    {
     "name": "stdout",
     "output_type": "stream",
     "text": [
      "'\"thboileau\"\\n\"Cyprien Quilici\"'\n"
     ]
    }
   ],
   "source": [
    "developer_count=repo.git.log(\"--format=\\\"%aN\\\"\",\"97a8d1d62612683817c785e99c4166bcde8cf1c\",\"--\",\"modules/org.restlet.ext.xml/src/main/java/org/restlet/ext/xml/XmlRepresentation.java\")\n",
    "pprint.pprint(developer_count)"
   ]
  },
  {
   "cell_type": "markdown",
   "metadata": {},
   "source": [
    "Question'k' Which developers have modified each affected file since its creation? For each developer identified, how many commits have each of them submitted?"
   ]
  },
  {
   "cell_type": "code",
   "execution_count": 32,
   "metadata": {},
   "outputs": [
    {
     "name": "stdout",
     "output_type": "stream",
     "text": [
      "'     1\\tCyprien Quilici\\n     1\\tthboileau'\n"
     ]
    }
   ],
   "source": [
    "TopDevelopers=repo.git.shortlog(\"-sn\",\"97a8d1d62612683817c785e99c4166bcde8cf1c\",\"--\",\"modules/org.restlet.ext.xml/src/main/java/org/restlet/ext/xml/XmlRepresentation.java\")\n",
    "pprint.pprint(TopDevelopers)"
   ]
  },
  {
   "cell_type": "markdown",
   "metadata": {},
   "source": [
    "#\n",
    "SILARUDDIN SHAIK\n",
    "ID: A1782580\n",
    "1. CVE-ID - CVE-2018-8027\n",
    "2. Project Link1: https://github.com/apache/camel\n",
    "3. Provided Fixing Commit - 2c6964ae94d8f9a9c9a32e5ae5a0b794e8b8d3b"
   ]
  },
  {
   "cell_type": "code",
   "execution_count": 79,
   "metadata": {},
   "outputs": [],
   "source": [
    "import numpy as np\n",
    "import pandas as pd\n",
    "import os\n",
    "\n",
    "# Specify git executable file for GitPython in Jupyter Notebook (In IDE, it can still work without this line.)\n",
    "os.environ[\"GIT_PYTHON_REFRESH\"] = \"quiet\"\n",
    "import git\n",
    "from git import RemoteProgress\n",
    "\n",
    "from git import Repo\n",
    "import matplotlib.pyplot as plt\n",
    "import seaborn as sns\n",
    "%matplotlib inline"
   ]
  },
  {
   "cell_type": "code",
   "execution_count": 80,
   "metadata": {},
   "outputs": [],
   "source": [
    "repo = Repo(\"camel/\")\n",
    "fixingCommit=\"2c6964ae94d8f9a9c9a32e5ae5a0b794e8b8d3b\""
   ]
  },
  {
   "cell_type": "markdown",
   "metadata": {},
   "source": [
    "#Question'a': What was the message and title of the fixing commit? Was there any mention of fixing a bug or vulnerability?"
   ]
  },
  {
   "cell_type": "code",
   "execution_count": 81,
   "metadata": {},
   "outputs": [
    {
     "name": "stdout",
     "output_type": "stream",
     "text": [
      "'    CAMEL-10894: XML Validator: DTD Handling improved'\n"
     ]
    }
   ],
   "source": [
    "\n",
    "import pprint as pprint\n",
    "show_data = repo.git.show(\"-s\", fixingCommit).splitlines()\n",
    "pprint.pprint(show_data[4])"
   ]
  },
  {
   "cell_type": "markdown",
   "metadata": {},
   "source": [
    "#Question 'b' How many total files were affected in the fixing commit?"
   ]
  },
  {
   "cell_type": "code",
   "execution_count": 82,
   "metadata": {},
   "outputs": [
    {
     "name": "stdout",
     "output_type": "stream",
     "text": [
      "' .../camel/processor/validation/SchemaReader.java   | 19 ++++-'\n"
     ]
    }
   ],
   "source": [
    "numberoffilesaffected = repo.git.show(\"--stat\", \"2c6964ae94d8f9a9c9a32e5ae5a0b794e8b8d3b\").splitlines()\n",
    "pprint.pprint(numberoffilesaffected[6])"
   ]
  },
  {
   "cell_type": "code",
   "execution_count": 78,
   "metadata": {},
   "outputs": [],
   "source": [
    "#Question 'c' How many total directories were affected in the fixing commit?"
   ]
  },
  {
   "cell_type": "code",
   "execution_count": 40,
   "metadata": {},
   "outputs": [
    {
     "name": "stdout",
     "output_type": "stream",
     "text": [
      "'Directories affected:  .../validator/ValidatorDtdAccessOffTest.java       '\n"
     ]
    }
   ],
   "source": [
    "totalDirectoriesAffected = repo.git.show(\"--stat\", \"2c6964ae94d8f9a9c9a32e5ae5a0b794e8b8d3b\").splitlines()\n",
    "\n",
    "pprint.pprint(\"Directories affected: \"+totalDirectoriesAffected[8][0:52])"
   ]
  },
  {
   "cell_type": "markdown",
   "metadata": {},
   "source": [
    "#Question'd'How many total lines of code (including comments and blank lines) were deleted?"
   ]
  },
  {
   "cell_type": "code",
   "execution_count": 47,
   "metadata": {},
   "outputs": [
    {
     "name": "stdout",
     "output_type": "stream",
     "text": [
      "'Total lines DELETED including comments and blank lines: +), 4 deletio'\n"
     ]
    }
   ],
   "source": [
    "totalLinesDeletedInc = repo.git.show(\"--stat\", \"2c6964ae94d8f9a9c9a32e5ae5a0b794e8b8d3b\").splitlines()\n",
    "\n",
    "pprint.pprint(\"Total lines DELETED including comments and blank lines: \"+totalLinesDeletedInc[10][33:46])"
   ]
  },
  {
   "cell_type": "markdown",
   "metadata": {},
   "source": [
    "#Question'e'How many total lines of code (including comments and blank lines) were added?"
   ]
  },
  {
   "cell_type": "code",
   "execution_count": 49,
   "metadata": {},
   "outputs": [
    {
     "name": "stdout",
     "output_type": "stream",
     "text": [
      "'Total lines ADDED including comments and blank lines:  223 insertion'\n"
     ]
    }
   ],
   "source": [
    "totalLinesAddedInc = repo.git.show(\"--stat\", \"2c6964ae94d8f9a9c9a32e5ae5a0b794e8b8d3b\").splitlines()\n",
    "\n",
    "pprint.pprint(\"Total lines ADDED including comments and blank lines: \"+totalLinesAddedInc[10][17:31])"
   ]
  },
  {
   "cell_type": "markdown",
   "metadata": {},
   "source": [
    "#Question'f'How many total lines of code (excluding comments and blank lines) were deleted?"
   ]
  },
  {
   "cell_type": "code",
   "execution_count": 51,
   "metadata": {},
   "outputs": [
    {
     "name": "stdout",
     "output_type": "stream",
     "text": [
      "'Total lines DELETED excluding comments and blank lines 7 '\n"
     ]
    }
   ],
   "source": [
    "deletedlines = repo.git.show(\"--stat\", \"--ignore-blank-lines\", \"2c6964ae94d8f9a9c9a32e5ae5a0b794e8b8d3b\").splitlines()\n",
    "\n",
    "pprint.pprint(\"Total lines DELETED excluding comments and blank lines 7 \"+deletedlines[5][17:31])"
   ]
  },
  {
   "cell_type": "markdown",
   "metadata": {},
   "source": [
    "#Question ‘g’ How many total lines of code (excluding comments and blank lines) were added?"
   ]
  },
  {
   "cell_type": "code",
   "execution_count": 52,
   "metadata": {},
   "outputs": [
    {
     "name": "stdout",
     "output_type": "stream",
     "text": [
      "'Total lines ADDED excluding comments and blank lines:  201'\n"
     ]
    }
   ],
   "source": [
    "linesadded = repo.git.show(\"--stat\", \"--ignore-blank-lines\", \"2c6964ae94d8f9a9c9a32e5ae5a0b794e8b8d3b\").splitlines()\n",
    "\n",
    "pprint.pprint(\"Total lines ADDED excluding comments and blank lines: \"+linesadded[2][27:31])"
   ]
  },
  {
   "cell_type": "markdown",
   "metadata": {},
   "source": [
    "#Question'h'How many days were between the current fixing commit and the previous commit of each affected file?"
   ]
  },
  {
   "cell_type": "code",
   "execution_count": 53,
   "metadata": {},
   "outputs": [
    {
     "name": "stdout",
     "output_type": "stream",
     "text": [
      "373 Days\n"
     ]
    }
   ],
   "source": [
    "from datetime import datetime\n",
    "from datetime import date\n",
    "DateOfFixingCommit = repo.git.log(\"-1\" ,\"--format=\\\"%ai\\\"\", \"2c6964ae94d8f9a9c9a32e5ae5a0b794e8b8d3b\", \"--\", \"camel-core/src/main/java/org/apache/camel/processor/validation/SchemaReader.java\").splitlines()\n",
    "DateOfFixingCommit=DateOfFixingCommit[0][1:11]\n",
    "DateOfPrevCommit = repo.git.log(\"-1\" ,\"--format=\\\"%ai\\\"\",\"-p\", \"2c6964ae94d8f9a9c9a32e5ae5a0b794e8b8d3b^\", \"--\", \"camel-core/src/main/java/org/apache/camel/processor/validation/SchemaReader.java\").splitlines()\n",
    "DateOfPrevCommit=DateOfPrevCommit[0][1:11]\n",
    "DateOfPrevCommit= datetime.strptime(DateOfPrevCommit,\"%Y-%m-%d\")\n",
    "DateOfFixingCommit= datetime.strptime(DateOfFixingCommit,\"%Y-%m-%d\")\n",
    "Between_days=(DateOfFixingCommit-DateOfPrevCommit).days\n",
    "print(Between_days,\"Days\")"
   ]
  },
  {
   "cell_type": "markdown",
   "metadata": {},
   "source": [
    "#Question I How many time has each affected file of the current fixing commit been modified in the past since their creation (including rename of the file)?"
   ]
  },
  {
   "cell_type": "code",
   "execution_count": 54,
   "metadata": {},
   "outputs": [
    {
     "name": "stdout",
     "output_type": "stream",
     "text": [
      "4\n"
     ]
    }
   ],
   "source": [
    "Commits=repo.git.log(\"--follow\",\"2c6964ae94d8f9a9c9a32e5ae5a0b794e8b8d3b\",\"--\",\"camel-core/src/main/java/org/apache/camel/processor/validation/SchemaReader.java\")\n",
    "print(Commits.count('commit'))"
   ]
  },
  {
   "cell_type": "markdown",
   "metadata": {},
   "source": [
    "Question‘J’ j. Which developers have modified each affected file since its creation?"
   ]
  },
  {
   "cell_type": "code",
   "execution_count": 55,
   "metadata": {},
   "outputs": [
    {
     "name": "stdout",
     "output_type": "stream",
     "text": [
      "'\"Franz Forsthofer\"\\n\"Franz Forsthofer\"\\n\"Franz Forsthofer\"\\n\"Franz Forsthofer\"'\n"
     ]
    }
   ],
   "source": [
    "Developers=repo.git.log(\"--format=\\\"%aN\\\"\",\"2c6964ae94d8f9a9c9a32e5ae5a0b794e8b8d3b\",\"--\",\n",
    "\"camel-core/src/main/java/org/apache/camel/processor/validation/SchemaReader.java\")\n",
    "pprint.pprint(Developers)"
   ]
  },
  {
   "cell_type": "markdown",
   "metadata": {},
   "source": [
    "Question'k' Which developers have modified each affected file since its creation? For each developer identified, how many commits have each of them submitted?"
   ]
  },
  {
   "cell_type": "code",
   "execution_count": 56,
   "metadata": {},
   "outputs": [
    {
     "name": "stdout",
     "output_type": "stream",
     "text": [
      "'     4\\tFranz Forsthofer'\n"
     ]
    }
   ],
   "source": [
    "TopDevelopers=repo.git.shortlog(\"-sn\",\"2c6964ae94d8f9a9c9a32e5ae5a0b794e8b8d3b\",\"--\",\n",
    "                                \"camel-core/src/main/java/org/apache/camel/processor/validation/SchemaReader.java\")\n",
    "pprint.pprint(TopDevelopers)"
   ]
  },
  {
   "cell_type": "code",
   "execution_count": null,
   "metadata": {},
   "outputs": [],
   "source": []
  }
 ],
 "metadata": {
  "kernelspec": {
   "display_name": "Python 3",
   "language": "python",
   "name": "python3"
  },
  "language_info": {
   "codemirror_mode": {
    "name": "ipython",
    "version": 3
   },
   "file_extension": ".py",
   "mimetype": "text/x-python",
   "name": "python",
   "nbconvert_exporter": "python",
   "pygments_lexer": "ipython3",
   "version": "3.7.4"
  }
 },
 "nbformat": 4,
 "nbformat_minor": 2
}
